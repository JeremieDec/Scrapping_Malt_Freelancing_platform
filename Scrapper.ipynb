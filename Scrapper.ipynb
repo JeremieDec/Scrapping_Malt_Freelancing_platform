{
 "cells": [
  {
   "cell_type": "code",
   "execution_count": null,
   "metadata": {},
   "outputs": [],
   "source": [
    "# library imports\n",
    "from bs4 import BeautifulSoup\n",
    "from selenium import webdriver\n",
    "from webdriver_manager.chrome import ChromeDriverManager\n",
    "import time\n",
    "import requests\n",
    "import pandas as pd\n"
   ]
  },
  {
   "cell_type": "code",
   "execution_count": null,
   "metadata": {},
   "outputs": [],
   "source": [
    "driver = webdriver.Chrome(ChromeDriverManager().install())\n",
    "\n",
    "# We're looking for the Java developers\n",
    "driver.get(\"https://www.malt.fr/s?q=java\")        \n",
    "\n",
    "# Classes names that will be scrapped\n",
    "cols = ['name', 'title', 'rate', 'skill', 'badge']  \n",
    "df = pd.DataFrame([(1,2,3,4,5)], columns = cols)"
   ]
  },
  {
   "cell_type": "code",
   "execution_count": null,
   "metadata": {},
   "outputs": [],
   "source": [
    "# Start the scraping at page 1\n",
    "i=0\n",
    "while True:                                              # To iterate over every page, don't forget to login :)\n",
    "    i = i+1\n",
    "    url = \"https://www.malt.fr/s?q=java&p=\" + str(i)\n",
    "    page = driver.get(url)\n",
    "    page = driver.page_source\n",
    "    print(url)\n",
    "    testpage = requests.get(url)\n",
    "    if testpage.status_code != 200:\n",
    "        break\n",
    "        \n",
    "    soup = BeautifulSoup(page, 'html.parser')                                              # Parsing  \n",
    "    name = soup.find_all(class_=\"profile-card-header__full-name\")                          # Name\n",
    "    titre = soup.find_all(class_=\"link quiet\")                                             # Title\n",
    "    rate = soup.find_all(class_=\"profile-card-reputation__rate\")                           # Rate\n",
    "    skill = soup.find_all(class_=\"profile-card-body__skills malt-tag-list cropped loaded\") # Skills\n",
    "    badge_level = soup.find(class_=\"profile-card__badge-level\")                            # Badge level"
   ]
  },
  {
   "cell_type": "code",
   "execution_count": null,
   "metadata": {},
   "outputs": [],
   "source": [
    "skills = list()\n",
    "    for sk in skill:\n",
    "       skills.append(sk.get_text())\n",
    "\n",
    "    badges = list()\n",
    "    for bd in badge_level:\n",
    "       badges.append(badge_level.get_text())\n",
    "        \n",
    "    rates = list()\n",
    "    for amount in rate:\n",
    "        rates.append(amount.get_text())\n",
    "\n",
    "    titles = list()\n",
    "    for nom in titre:\n",
    "        titles.append(nom.get_text())\n",
    "    del(titles[0]) # Drop \"Accueuil\"\n",
    "\n",
    "    names = list()\n",
    "    for nom in name:\n",
    "        names.append(nom.get_text())\n",
    "\n",
    "    title_df = pd.DataFrame(titles)\n",
    "    name_df = pd.DataFrame(names)\n",
    "    rate_df = pd.DataFrame(rates)\n",
    "    skill_df = pd.DataFrame(skills)\n",
    "    badge_df = pd.DataFrame(badges)\n",
    "\n",
    "    df_to_add = [name_df, title_df, rate_df, skill_df, badge_df]\n",
    "    df_to_add = pd.concat(df_to_add, axis=1)\n",
    "    df =  df.append(df_to_add)"
   ]
  }
 ],
 "metadata": {
  "kernelspec": {
   "display_name": "Python 3",
   "language": "python",
   "name": "python3"
  },
  "language_info": {
   "codemirror_mode": {
    "name": "ipython",
    "version": 3
   },
   "file_extension": ".py",
   "mimetype": "text/x-python",
   "name": "python",
   "nbconvert_exporter": "python",
   "pygments_lexer": "ipython3",
   "version": "3.7.4"
  }
 },
 "nbformat": 4,
 "nbformat_minor": 2
}
